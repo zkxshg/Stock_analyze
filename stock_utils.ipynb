{
 "cells": [
  {
   "cell_type": "code",
   "execution_count": 1,
   "metadata": {},
   "outputs": [],
   "source": [
    "import pandas as pd\n",
    "import xlrd\n",
    "import tushare as ts\n",
    "import numpy as np\n",
    "import os\n",
    "import talib"
   ]
  },
  {
   "cell_type": "code",
   "execution_count": 41,
   "metadata": {},
   "outputs": [],
   "source": [
    "token = \"7845848405417df2eec8b602de4f1c07766c33fe2c0f4a41d912f4a5\"\n",
    "ts.set_token(token)\n",
    "pro = ts.pro_api()"
   ]
  },
  {
   "cell_type": "code",
   "execution_count": 42,
   "metadata": {},
   "outputs": [],
   "source": [
    "# 计算DB1指数\n",
    "def calculateDB1(HIGH, LOW, CLOSE, M1, M2, smaArray=[]):\n",
    "    MIN_21 = []\n",
    "    MAX_21 = []\n",
    "    for i in range(0, 21):\n",
    "        MIN_21.append(LOW[:i + 1].min())\n",
    "        MAX_21.append(HIGH[:i + 1].max())\n",
    "    for i in range(21, len(LOW)):\n",
    "        MIN_21.append(LOW[i - 20:i + 1].min())\n",
    "        MAX_21.append(HIGH[i - 20:i + 1].max())\n",
    "    MIN_21 = np.array(MIN_21)\n",
    "    MAX_21 = np.array(MAX_21)\n",
    "    # DB1赋值: (收盘价 - 21日内最低价的最低值) / (21日内最高价的最高值-21日内最低价的最低值) * 100\n",
    "    smaArray = (CLOSE - MIN_21) / (MAX_21 - MIN_21) * 100\n",
    "    return MIN_21, MAX_21, smaArray"
   ]
  },
  {
   "cell_type": "code",
   "execution_count": 43,
   "metadata": {},
   "outputs": [],
   "source": [
    "# 计算DB2指数\n",
    "def calculateDB2(DB1, M1, M2, smaArray=[]):\n",
    "    length = len(DB1)\n",
    "    if not smaArray:\n",
    "        # 首日EMA記為當日收盤價\n",
    "        smaArray.append(DB1[0])\n",
    "        for i in range(1, length):\n",
    "            ema = (M2 * DB1[i] + (M1 - M2) * smaArray[-1]) / M1\n",
    "            smaArray.append(ema)\n",
    "    return smaArray"
   ]
  },
  {
   "cell_type": "code",
   "execution_count": 51,
   "metadata": {},
   "outputs": [],
   "source": [
    "# ========== 创建汇总表模板 ==========\n",
    "def buildTableHead(start_time2):\n",
    "    # ========== 1 日前复权数据 DB2 ==========\n",
    "    demo1 = ts.pro_bar('600000.SH', adj='qfq', start_date=start_time2)\n",
    "    demo = demo1.sort_values('trade_date', ascending=True)  # sort\n",
    "    demo.index = demo1.index\n",
    "    \n",
    "    demoT = demo['trade_date'].T  # get column names\n",
    "    demoT = demoT[-5:]  # slice\n",
    "    \n",
    "    dateName = demoT.tolist()  # df -> list\n",
    "    dateName = ['DB2_day_' + i for i in dateName]  # add index label\n",
    "    \n",
    "    # ========== 2 周前复权数据 DB2 ==========\n",
    "    demo_week1 = ts.pro_bar('600000.SH', freq='W', adj='qfq', start_date=start_time2)\n",
    "    demo_week = demo_week1.sort_values('trade_date', ascending=True)\n",
    "    demo_week.index = demo_week1.index\n",
    "    \n",
    "    demo_weekT = demo_week['trade_date'].T\n",
    "    demo_weekT = demo_weekT[-5:]\n",
    "    weekName = demo_weekT.tolist()\n",
    "    weekName = ['DB2_week_' + i for i in weekName]\n",
    "    \n",
    "    # ========== 3 MACD_hist ==========\n",
    "    macdName = demoT.tolist()  # df -> list\n",
    "    macdName = ['MACD_' + i for i in macdName]  # add index label\n",
    "    \n",
    "    # ========== 4 RSI ==========\n",
    "    RSIName = demoT.tolist()  # df -> list\n",
    "    RSIName = ['RSI_' + i for i in RSIName]  # add index label\n",
    "    \n",
    "    # ========== 5 CCI ==========\n",
    "    CCIName = demoT.tolist()  # df -> list\n",
    "    CCIName = ['CCI_' + i for i in CCIName]  # add index label\n",
    "    \n",
    "    # ========== 6 KDJ ==========\n",
    "    KDJName = demoT.tolist()  # df -> list\n",
    "    KDJName = ['KDJ_' + i for i in KDJName]  # add index label\n",
    "    \n",
    "    # ========== 7 企业基本数据 ==========\n",
    "    empl = pro.stock_basic(exchange='', list_status='L', fields='ts_code,symbol,name,area,industry,list_date')\n",
    "    emplName = empl.columns.tolist()\n",
    "    \n",
    "    # ========== 8.汇总表头名称 ==========\n",
    "    colsName = dateName + weekName + macdName + RSIName + CCIName + KDJName + emplName\n",
    "    conclude = pd.DataFrame(columns=colsName)\n",
    "    \n",
    "    return conclude"
   ]
  },
  {
   "cell_type": "code",
   "execution_count": 52,
   "metadata": {},
   "outputs": [],
   "source": [
    "# ========== Initialize ==========\n",
    "# 输入文件路径\n",
    "path = \"沪深A股.xls\"\n",
    "\n",
    "# 输入要读取的工作表 / sheet 数，默认读取第一张\n",
    "# sheets = [5]\n",
    "sheets = [0, 1, 2, 3, 4]\n",
    "\n",
    "# 输入储存文件路径\n",
    "savePath = \"./data\"\n",
    "\n",
    "# 设置计算 ADX、PDI 和 MDI 的周期，默认为14\n",
    "period = 14\n",
    "\n",
    "# 设置计算 SMA 的周期 N\n",
    "N = 13\n",
    "N2 = 8\n",
    "weight = 1\n",
    "\n",
    "# 设置起始时间，两个要保持一致\n",
    "start_time = '2019-8-05'\n",
    "start_time2 = '20190805'"
   ]
  },
  {
   "cell_type": "code",
   "execution_count": 53,
   "metadata": {},
   "outputs": [],
   "source": [
    "conclude = buildTableHead(start_time2)"
   ]
  },
  {
   "cell_type": "code",
   "execution_count": 54,
   "metadata": {},
   "outputs": [
    {
     "data": {
      "text/html": [
       "<div>\n",
       "<style scoped>\n",
       "    .dataframe tbody tr th:only-of-type {\n",
       "        vertical-align: middle;\n",
       "    }\n",
       "\n",
       "    .dataframe tbody tr th {\n",
       "        vertical-align: top;\n",
       "    }\n",
       "\n",
       "    .dataframe thead th {\n",
       "        text-align: right;\n",
       "    }\n",
       "</style>\n",
       "<table border=\"1\" class=\"dataframe\">\n",
       "  <thead>\n",
       "    <tr style=\"text-align: right;\">\n",
       "      <th></th>\n",
       "      <th>DB2_day_20210825</th>\n",
       "      <th>DB2_day_20210826</th>\n",
       "      <th>DB2_day_20210827</th>\n",
       "      <th>DB2_day_20210830</th>\n",
       "      <th>DB2_day_20210831</th>\n",
       "      <th>DB2_week_20210730</th>\n",
       "      <th>DB2_week_20210806</th>\n",
       "      <th>DB2_week_20210813</th>\n",
       "      <th>DB2_week_20210820</th>\n",
       "      <th>DB2_week_20210827</th>\n",
       "      <th>...</th>\n",
       "      <th>KDJ_20210826</th>\n",
       "      <th>KDJ_20210827</th>\n",
       "      <th>KDJ_20210830</th>\n",
       "      <th>KDJ_20210831</th>\n",
       "      <th>ts_code</th>\n",
       "      <th>symbol</th>\n",
       "      <th>name</th>\n",
       "      <th>area</th>\n",
       "      <th>industry</th>\n",
       "      <th>list_date</th>\n",
       "    </tr>\n",
       "  </thead>\n",
       "  <tbody>\n",
       "  </tbody>\n",
       "</table>\n",
       "<p>0 rows × 36 columns</p>\n",
       "</div>"
      ],
      "text/plain": [
       "Empty DataFrame\n",
       "Columns: [DB2_day_20210825, DB2_day_20210826, DB2_day_20210827, DB2_day_20210830, DB2_day_20210831, DB2_week_20210730, DB2_week_20210806, DB2_week_20210813, DB2_week_20210820, DB2_week_20210827, MACD_20210825, MACD_20210826, MACD_20210827, MACD_20210830, MACD_20210831, RSI_20210825, RSI_20210826, RSI_20210827, RSI_20210830, RSI_20210831, CCI_20210825, CCI_20210826, CCI_20210827, CCI_20210830, CCI_20210831, KDJ_20210825, KDJ_20210826, KDJ_20210827, KDJ_20210830, KDJ_20210831, ts_code, symbol, name, area, industry, list_date]\n",
       "Index: []\n",
       "\n",
       "[0 rows x 36 columns]"
      ]
     },
     "execution_count": 54,
     "metadata": {},
     "output_type": "execute_result"
    }
   ],
   "source": [
    "conclude"
   ]
  },
  {
   "cell_type": "code",
   "execution_count": null,
   "metadata": {},
   "outputs": [],
   "source": []
  }
 ],
 "metadata": {
  "kernelspec": {
   "display_name": "Python 3",
   "language": "python",
   "name": "python3"
  },
  "language_info": {
   "codemirror_mode": {
    "name": "ipython",
    "version": 3
   },
   "file_extension": ".py",
   "mimetype": "text/x-python",
   "name": "python",
   "nbconvert_exporter": "python",
   "pygments_lexer": "ipython3",
   "version": "3.7.6"
  }
 },
 "nbformat": 4,
 "nbformat_minor": 4
}
